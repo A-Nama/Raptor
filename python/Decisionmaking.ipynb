{
  "nbformat": 4,
  "nbformat_minor": 0,
  "metadata": {
    "colab": {
      "provenance": []
    },
    "kernelspec": {
      "name": "python3",
      "display_name": "Python 3"
    },
    "language_info": {
      "name": "python"
    }
  },
  "cells": [
    {
      "cell_type": "markdown",
      "source": [
        "Program 1"
      ],
      "metadata": {
        "id": "Z6pjkpgORMkU"
      }
    },
    {
      "cell_type": "code",
      "execution_count": null,
      "metadata": {
        "id": "vhy290X0RKsZ"
      },
      "outputs": [],
      "source": [
        "n1=int(input(\"Enter the first number: \"))\n",
        "n2=int(input(\"Enter the second number: \"))\n",
        "if n1>n2:\n",
        "  statement=\"%i is greater than %i.\"%(n1,n2)\n",
        "elif n1<n2:\n",
        "  statement=\"%i is greater than %i. \"%(n2,n1)\n",
        "else:\n",
        "  statement=\"%i is equal to %i.\"%(n1,n2)\n",
        "\n",
        "print(statement)\n"
      ]
    },
    {
      "cell_type": "markdown",
      "source": [
        "Program 2"
      ],
      "metadata": {
        "id": "M0P1X19UUt6l"
      }
    },
    {
      "cell_type": "code",
      "source": [
        "n=int(input(\"Enter a number: \"))\n",
        "if n%2==0:\n",
        "  print(n, \" is an even number.\")\n",
        "else:\n",
        "  print(n, \" is an odd number. \")"
      ],
      "metadata": {
        "id": "1VOEV4yVUM1c"
      },
      "execution_count": null,
      "outputs": []
    },
    {
      "cell_type": "markdown",
      "source": [
        "Program 3"
      ],
      "metadata": {
        "id": "MkwgPgb0VOY9"
      }
    },
    {
      "cell_type": "code",
      "source": [
        "a=int(input(\"Enter an integer: \"))\n",
        "if a>0:\n",
        "  print(a, \" is a positive integer.\")\n",
        "elif a==0:\n",
        "  print(a, \" is zero.\")\n",
        "else:\n",
        "  print(a, \" is a negative integer. \")"
      ],
      "metadata": {
        "id": "fO-yJn9rVQC9"
      },
      "execution_count": null,
      "outputs": []
    },
    {
      "cell_type": "markdown",
      "source": [
        "Program 4"
      ],
      "metadata": {
        "id": "_QVAQsXvV0p9"
      }
    },
    {
      "cell_type": "code",
      "source": [
        "b=int(input(\"Enter an integer: \"))\n",
        "if b>9 and b<100:\n",
        "  print(b, \" is a two digit number. \")\n",
        "else:\n",
        "  print(b, \" is not a two digit number. \")"
      ],
      "metadata": {
        "id": "OLWrBwpBV2Kl"
      },
      "execution_count": null,
      "outputs": []
    },
    {
      "cell_type": "markdown",
      "source": [
        "Program 5: Nature of solution of quadratic equation"
      ],
      "metadata": {
        "id": "T-ULs33TXNqH"
      }
    },
    {
      "cell_type": "code",
      "source": [
        "b=int(input(\"Enter b coefficient: \"))\n",
        "a=int(input(\"Enter a coefficient: \"))\n",
        "c=int(input(\"Enter c coefficient: \"))\n",
        "d=(b**2)- (4*a*c)\n",
        "if d==0:\n",
        "  print(\"The roots are equal.\")\n",
        "elif d<0:\n",
        "  print(\"The roots are imaginary. \")\n",
        "else:\n",
        "  print(\"The roots are unique and real\")"
      ],
      "metadata": {
        "id": "gvSP1KlcXP9_"
      },
      "execution_count": null,
      "outputs": []
    },
    {
      "cell_type": "markdown",
      "source": [
        "Program 6"
      ],
      "metadata": {
        "id": "lqr_xXOtX8vX"
      }
    },
    {
      "cell_type": "code",
      "source": [
        "n1=int(input(\"Enter a number: \"))\n",
        "n2=int(input(\"Enter a number: \"))\n",
        "n3=int(input(\"Enter a number: \"))\n",
        "if n1<n2 and n1<n3:\n",
        "  print(n1, \" is the smallest number.\")\n",
        "elif n2<n1 and n2<n3:\n",
        "  print(n2, \" is the smallest number. \")\n",
        "elif n3<n2 and n3<n1:\n",
        "  print(n3, \" is the smallest number. \")\n",
        "else:\n",
        "  print(\"Please enter 3 unique numbers\")"
      ],
      "metadata": {
        "id": "v1fkfq7NX95G"
      },
      "execution_count": null,
      "outputs": []
    },
    {
      "cell_type": "markdown",
      "source": [
        "Program 7"
      ],
      "metadata": {
        "id": "dgcUcKKtZXug"
      }
    },
    {
      "cell_type": "code",
      "source": [
        "n=int(input(\"Enter a two digit number: \"))\n",
        "ones=n%10\n",
        "tens=n//10\n",
        "if ones>tens:\n",
        "  print(tens, \" is the smaller number.\")\n",
        "elif ones<tens:\n",
        "  print(ones, \" is the smaller number. \")\n",
        "else:\n",
        "  print(\"The numbers are same. \")"
      ],
      "metadata": {
        "id": "HoOC6-_JZZT4"
      },
      "execution_count": null,
      "outputs": []
    },
    {
      "cell_type": "markdown",
      "source": [
        "Program 8"
      ],
      "metadata": {
        "id": "4rKIZbrwa6Qp"
      }
    },
    {
      "cell_type": "code",
      "source": [
        "n1=int(input(\"Enter a number: \"))\n",
        "n2=int(input(\"Enter another number: \"))\n",
        "if n1>n2:\n",
        "  if n1%n2==0:\n",
        "    print(n1, \" is divisible by \", n2)\n",
        "  else:\n",
        "    print(n1, \" is not divisible by \", n2)\n",
        "elif n2>n1:\n",
        "  if n2%n1==0:\n",
        "    print(n2, \" is divisible by \",n1)\n",
        "  else:\n",
        "    print(n2, \" is not divisible by \", n1)\n",
        "else:\n",
        "  print(n1, \" is divisible by \", n2)"
      ],
      "metadata": {
        "id": "pLIWDpvua8DA"
      },
      "execution_count": null,
      "outputs": []
    },
    {
      "cell_type": "markdown",
      "source": [
        "Program 9"
      ],
      "metadata": {
        "id": "BDcAg674cjmi"
      }
    },
    {
      "cell_type": "code",
      "source": [
        "p1=int(input(\"Enter 1st point on number line: \"))\n",
        "p2=int(input(\"Enter 2nd point on number line: \"))\n",
        "if p1>p2:\n",
        "  d=p1-p2\n",
        "elif p2>p1:\n",
        "  d=p2-p1\n",
        "else:\n",
        "  d=0\n",
        "print(\"Distance between the points is \", d)"
      ],
      "metadata": {
        "id": "BFr_fnZDck-h"
      },
      "execution_count": null,
      "outputs": []
    },
    {
      "cell_type": "markdown",
      "source": [
        "Program 10"
      ],
      "metadata": {
        "id": "lGMvJ82hd4pK"
      }
    },
    {
      "cell_type": "code",
      "source": [
        "y=int(input(\"Enter a year: \"))\n",
        "if y%100==0:\n",
        "  if y%400==0:\n",
        "    print(\"The year is a leap year.\")\n",
        "  else:\n",
        "    print(\"The year is not a leap year. \")\n",
        "else:\n",
        "  if y%4==0:\n",
        "    print(\"The year is a leap year. \")\n",
        "  else:\n",
        "    print(\"The year is not a leap year. \")"
      ],
      "metadata": {
        "id": "QOmM8lBod6F6"
      },
      "execution_count": null,
      "outputs": []
    }
  ]
}