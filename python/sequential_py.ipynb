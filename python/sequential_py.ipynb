{
  "nbformat": 4,
  "nbformat_minor": 0,
  "metadata": {
    "colab": {
      "provenance": []
    },
    "kernelspec": {
      "name": "python3",
      "display_name": "Python 3"
    },
    "language_info": {
      "name": "python"
    }
  },
  "cells": [
    {
      "cell_type": "code",
      "execution_count": null,
      "metadata": {
        "id": "egpPmmreSvZg"
      },
      "outputs": [],
      "source": [
        "print(\"PROGRAM 1\")\n",
        "a=int(input(\"Enter a number: \"))\n",
        "b=int(input(\"Enter another number: \"))\n",
        "sum=a+b\n",
        "print(\"The sum of two numbers is \", sum)"
      ]
    },
    {
      "cell_type": "code",
      "source": [
        "print(\"PROGRAM 2\")\n",
        "b=int(input(\"Enter base of triangle: \"))\n",
        "h=int(input(\"Enter height of triangle: \"))\n",
        "area=0.5*b*h\n",
        "s1=int(input(\"Enter length of 1st side: \"))\n",
        "s2=int(input(\"Enter length of 2nd side: \"))\n",
        "s3=int(input(\"Enter length of 3rd side: \"))\n",
        "perimeter=s1+s2+s3\n",
        "print(\"The area of the triangle is \", area)\n",
        "print(\"The perimeter of the triangle is \", perimeter)"
      ],
      "metadata": {
        "id": "r3M3NvwfTdlH"
      },
      "execution_count": null,
      "outputs": []
    },
    {
      "cell_type": "code",
      "source": [
        "print(\"PROGRAM 3\")\n",
        "r=int(input(\"Enter radius of triangle: \"))\n",
        "area=3.14*r*r\n",
        "print(\"The area of the circle is \",area)"
      ],
      "metadata": {
        "id": "AM32RPr0U753"
      },
      "execution_count": null,
      "outputs": []
    },
    {
      "cell_type": "code",
      "source": [
        "print(\"PROGRAM 4\")\n",
        "a=int(input(\"Enter a number: \"))\n",
        "b=int(input(\"Enter another number: \"))\n",
        "c=int(input(\"Enter another number: \"))\n",
        "sum=a+b+c\n",
        "avg=sum/3\n",
        "print(\"The sum of the numbers is \",sum , \"and their average is \", avg)"
      ],
      "metadata": {
        "id": "Q_kFcojNVXfG"
      },
      "execution_count": null,
      "outputs": []
    },
    {
      "cell_type": "code",
      "source": [
        "print(\"PROGRAM 5\")\n",
        "td=int(input(\"Enter number of days: \"))\n",
        "y=td//365\n",
        "m=(td%365)//30\n",
        "d=td-((y*365)+(m*30))\n",
        "print(y,\" years, \", m,\" months and \", d, \" days.\")"
      ],
      "metadata": {
        "id": "8JGtslw3WUiT"
      },
      "execution_count": null,
      "outputs": []
    },
    {
      "cell_type": "code",
      "source": [
        "print(\"PROGRAM 6\")\n",
        "s=int(input(\"Enter seconds: \"))\n",
        "h=s//3600\n",
        "s-=h*3600\n",
        "m=s//60\n",
        "s-=m*60\n",
        "print(h, \" hours, \", m, \" minutes and \", s, \" seconds.\")"
      ],
      "metadata": {
        "id": "QfdHw3SWXjJR"
      },
      "execution_count": null,
      "outputs": []
    },
    {
      "cell_type": "code",
      "source": [
        "print(\"PROGRAM 7\")\n",
        "a=int(input(\"Enter a number: \"))\n",
        "b=int(input(\"Enter another number: \"))\n",
        "sum=a+b\n",
        "diff=a-b\n",
        "prod=a*b\n",
        "quo=a/b\n",
        "print(\"The two numbers sum is \", sum, \" product is \", prod, \" difference is \", diff, \" and quotient is \", quo)"
      ],
      "metadata": {
        "id": "6P_hvibNY8hN"
      },
      "execution_count": null,
      "outputs": []
    },
    {
      "cell_type": "code",
      "source": [
        "print(\"PROGRAM 8\")\n",
        "b=int(input(\"Enter b coefficient: \"))\n",
        "a=int(input(\"Enter a coefficient: \"))\n",
        "c=int(input(\"Enter constant c: \"))\n",
        "d=b**2-4*a*c\n",
        "r1=((-b)+(d**0.5))/2*a\n",
        "r2=((-b)-(d**0.5))/2*a\n",
        "print(\"The roots are \", r1, \" and \", r2)"
      ],
      "metadata": {
        "id": "D70O9e0yZtju"
      },
      "execution_count": null,
      "outputs": []
    },
    {
      "cell_type": "code",
      "source": [
        "print(\"PROGRAM 9\")\n",
        "s1=int(input(\"Enter marks of first subject: \"))\n",
        "s2=int(input(\"Enter marks of second subject: \"))\n",
        "s3=int(input(\"Enter marks of third subject: \"))\n",
        "s4=int(input(\"Enter marks of fourth subject: \"))\n",
        "s5=int(input(\"Enter marks of fifth subject: \"))\n",
        "sum=s1+s2+s3+s4+s5\n",
        "perc=(sum/500)*100\n",
        "print(\"The overall percent scored is \", perc)"
      ],
      "metadata": {
        "id": "PNMdCA7-btrn"
      },
      "execution_count": null,
      "outputs": []
    },
    {
      "cell_type": "code",
      "source": [
        "print(\"PROGRAM 10\")\n",
        "c=int(input(\"Enter temperature in celsius: \"))\n",
        "temp=c*(9/5)+32\n",
        "print(\"The temperature is \", temp, \"C\")"
      ],
      "metadata": {
        "colab": {
          "base_uri": "https://localhost:8080/"
        },
        "id": "RpujtmLecrgQ",
        "outputId": "602d09f7-1b21-48a0-8daf-7ee7bc600bf0"
      },
      "execution_count": 10,
      "outputs": [
        {
          "output_type": "stream",
          "name": "stdout",
          "text": [
            "PROGRAM 10\n",
            "Enter temperature in celsius: 0\n",
            "The temperature is  32.0 C\n"
          ]
        }
      ]
    }
  ]
}