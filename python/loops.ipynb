{
  "nbformat": 4,
  "nbformat_minor": 0,
  "metadata": {
    "colab": {
      "provenance": []
    },
    "kernelspec": {
      "name": "python3",
      "display_name": "Python 3"
    },
    "language_info": {
      "name": "python"
    }
  },
  "cells": [
    {
      "cell_type": "markdown",
      "source": [
        "Program 1"
      ],
      "metadata": {
        "id": "Qm2xID5wXzL3"
      }
    },
    {
      "cell_type": "code",
      "source": [
        "n = int(input(\"What's the value of n? \"))\n",
        "x = 1\n",
        "print(x)\n",
        "for i in range(n-1):\n",
        "    x = x + 2\n",
        "    print(x)"
      ],
      "metadata": {
        "colab": {
          "base_uri": "https://localhost:8080/"
        },
        "id": "-CU7qNaJX4M2",
        "outputId": "07a2efef-5384-40d4-f442-d35c8df87a6e"
      },
      "execution_count": 33,
      "outputs": [
        {
          "output_type": "stream",
          "name": "stdout",
          "text": [
            "What's the value of n? 10\n",
            "1\n",
            "3\n",
            "5\n",
            "7\n",
            "9\n",
            "11\n",
            "13\n",
            "15\n",
            "17\n",
            "19\n"
          ]
        }
      ]
    },
    {
      "cell_type": "markdown",
      "source": [
        "Program 2"
      ],
      "metadata": {
        "id": "k4FPcdZDX5ax"
      }
    },
    {
      "cell_type": "code",
      "source": [
        "n=int(input(\"Enter the number: \"))\n",
        "temp=n\n",
        "reverse=0\n",
        "while (n>0):\n",
        "  last=(n%10)\n",
        "  reverse=reverse*10+last\n",
        "  n=n//10\n",
        "if(temp==reverse):\n",
        "  statement=\"the number is a palindrome\"\n",
        "else:\n",
        "  statement=\"the number is not a palindrome\"\n",
        "print(statement)"
      ],
      "metadata": {
        "colab": {
          "base_uri": "https://localhost:8080/"
        },
        "id": "c7u60V15X62Q",
        "outputId": "fa88e5aa-61d9-43d2-8aec-680531fce912"
      },
      "execution_count": 34,
      "outputs": [
        {
          "output_type": "stream",
          "name": "stdout",
          "text": [
            "Enter the number: 121\n",
            "the number is a palindrome\n"
          ]
        }
      ]
    },
    {
      "cell_type": "markdown",
      "source": [
        "Program 3"
      ],
      "metadata": {
        "id": "3SUm-BNoX7Ty"
      }
    },
    {
      "cell_type": "code",
      "source": [
        "b=int(input(\"Enter the binary number:\"))\n",
        "c=int(input(\"Enter the number of digits of binary numbers: \"))\n",
        "n=0\n",
        "a=0\n",
        "while (b>0):\n",
        "  last= b%10\n",
        "  a=a+last*(2**n)\n",
        "  n=n+1\n",
        "  b=b//10\n",
        "if (n==c):\n",
        "  print(\"the number is\",a )"
      ],
      "metadata": {
        "colab": {
          "base_uri": "https://localhost:8080/"
        },
        "id": "rt-uizOaX86E",
        "outputId": "dd68c9f8-b95d-450c-c700-22e6c9559ef6"
      },
      "execution_count": 35,
      "outputs": [
        {
          "output_type": "stream",
          "name": "stdout",
          "text": [
            "Enter the binary number:1010\n",
            "Enter the number of digits of binary numbers: 4\n",
            "the number is 10\n"
          ]
        }
      ]
    },
    {
      "cell_type": "markdown",
      "source": [
        "Program 4"
      ],
      "metadata": {
        "id": "Ua1_IxnbX9R6"
      }
    },
    {
      "cell_type": "code",
      "source": [
        "n = int(input(\"What's the limit? \"))\n",
        "sum = 0\n",
        "\n",
        "for i in range(1, n + 1):\n",
        "    sum = sum + i\n",
        "\n",
        "print(\"The sum of the first\", n, \"numbers is\", sum)"
      ],
      "metadata": {
        "colab": {
          "base_uri": "https://localhost:8080/"
        },
        "id": "Ogs782Q2X-oB",
        "outputId": "3cce9b4b-b640-4efa-ce35-99257fdfb5d9"
      },
      "execution_count": 36,
      "outputs": [
        {
          "output_type": "stream",
          "name": "stdout",
          "text": [
            "What's the limit? 10\n",
            "The sum of the first 10 numbers is 55\n"
          ]
        }
      ]
    },
    {
      "cell_type": "markdown",
      "source": [
        "Program 5"
      ],
      "metadata": {
        "id": "S9fxd-ELYArp"
      }
    },
    {
      "cell_type": "code",
      "source": [
        "n=int(input(\"Enter the number: \"))\n",
        "reverse=0\n",
        "while (n>0):\n",
        "  last=(n%10)\n",
        "  reverse=reverse*10+last\n",
        "  n=n//10\n",
        "print(\"the reverse of the number is \",reverse)"
      ],
      "metadata": {
        "colab": {
          "base_uri": "https://localhost:8080/"
        },
        "id": "GXD8cGsUYBvq",
        "outputId": "ce1af220-6373-40e7-d178-524a997bbfa7"
      },
      "execution_count": 37,
      "outputs": [
        {
          "output_type": "stream",
          "name": "stdout",
          "text": [
            "Enter the number: 153\n",
            "the reverse of the number is  351\n"
          ]
        }
      ]
    },
    {
      "cell_type": "markdown",
      "source": [
        "Program 6"
      ],
      "metadata": {
        "id": "0RBUuI-TYCFJ"
      }
    },
    {
      "cell_type": "code",
      "source": [
        "n=int(input(\"Enter the limit: \"))\n",
        "x=1\n",
        "i=1\n",
        "\n",
        "while i<=n:\n",
        "    x=x*i\n",
        "    i=i+1\n",
        "\n",
        "if n==i-1:\n",
        "    print(n,\"! =\",x)"
      ],
      "metadata": {
        "colab": {
          "base_uri": "https://localhost:8080/"
        },
        "id": "kUBIBTDAYDUV",
        "outputId": "bc5bbd7d-4790-4653-a77c-6c182a9ca9be"
      },
      "execution_count": 38,
      "outputs": [
        {
          "output_type": "stream",
          "name": "stdout",
          "text": [
            "Enter the limit: 5\n",
            "5 ! = 120\n"
          ]
        }
      ]
    },
    {
      "cell_type": "markdown",
      "source": [
        "Program 7"
      ],
      "metadata": {
        "id": "64qKzLQpYDqN"
      }
    },
    {
      "cell_type": "code",
      "source": [
        "n=int(input(\"Enter a number: \"))\n",
        "square=n**2\n",
        "mod=10**(len(str(n)))\n",
        "if(square%mod==n):\n",
        "  print(n,\"is automporhic.\")\n",
        "else:\n",
        "  print(n,\"is NOT automorphic.\")"
      ],
      "metadata": {
        "colab": {
          "base_uri": "https://localhost:8080/"
        },
        "id": "9PJbyIpOYEos",
        "outputId": "eb10bd82-ef20-4cf4-dd1a-15f837f92c2c"
      },
      "execution_count": 32,
      "outputs": [
        {
          "output_type": "stream",
          "name": "stdout",
          "text": [
            "Enter a number: 25\n",
            "25 is automporhic.\n"
          ]
        }
      ]
    },
    {
      "cell_type": "markdown",
      "source": [
        "Program 8"
      ],
      "metadata": {
        "id": "-H0Uo8jTIHWn"
      }
    },
    {
      "cell_type": "code",
      "execution_count": 5,
      "metadata": {
        "colab": {
          "base_uri": "https://localhost:8080/"
        },
        "id": "TXGS12ZlIEK5",
        "outputId": "163dcec2-4189-4585-826b-59a2582cc91b"
      },
      "outputs": [
        {
          "output_type": "stream",
          "name": "stdout",
          "text": [
            "Enter the number: 13\n",
            "The sum of factors of 13 is 14\n"
          ]
        }
      ],
      "source": [
        "n=int(input(\"Enter the number: \"))\n",
        "sum=0\n",
        "i=1\n",
        "while(i<n):\n",
        "  if (n%i==0):\n",
        "    sum=sum+i\n",
        "  i+=1\n",
        "sum+=n\n",
        "print(\"The sum of factors of\", n, \"is\", sum)"
      ]
    },
    {
      "cell_type": "markdown",
      "source": [
        "Program 9"
      ],
      "metadata": {
        "id": "PTYf1ZLqKrum"
      }
    },
    {
      "cell_type": "code",
      "source": [
        "n1=int(input(\"Enter first number: \"))\n",
        "n2=int(input(\"Enter second number: \"))\n",
        "i=1\n",
        "gcd=1\n",
        "if (n1>n2):\n",
        "  g=n1\n",
        "  s=n2\n",
        "else:\n",
        "  g=n2\n",
        "  s=n1\n",
        "while(i<=n1 or i<=n2):\n",
        "  if (g%s==0):\n",
        "    gcd=s\n",
        "    i=s\n",
        "  elif(n1%i==0 and n2%i==0):\n",
        "    gcd=i\n",
        "  i+=1\n",
        "print(\"gcd of\",n1, \"and\", n2, \"is\", gcd)"
      ],
      "metadata": {
        "colab": {
          "base_uri": "https://localhost:8080/"
        },
        "id": "YkUr07U4KxiS",
        "outputId": "9ee35d76-0703-4fe2-be13-a5fa7d43eeae"
      },
      "execution_count": 9,
      "outputs": [
        {
          "output_type": "stream",
          "name": "stdout",
          "text": [
            "Enter first number: 12\n",
            "Enter second number: 15\n",
            "gcd of 12 and 15 is 3\n"
          ]
        }
      ]
    },
    {
      "cell_type": "markdown",
      "source": [
        "Program 10"
      ],
      "metadata": {
        "id": "UpHjMSMOO6tm"
      }
    },
    {
      "cell_type": "code",
      "source": [
        "n=int(input(\"Enter a number below 1000: \"))\n",
        "sum=0\n",
        "temp=n\n",
        "while(temp!=0):\n",
        "  digit=temp%10\n",
        "  sum+=digit**3\n",
        "  temp=temp//10\n",
        "if (sum==n):\n",
        "  print(n,\"is an Armstrong number.\")\n",
        "else:\n",
        "  print(n,\"is NOT an Armstrong number.\")"
      ],
      "metadata": {
        "colab": {
          "base_uri": "https://localhost:8080/"
        },
        "id": "UukC15poO89c",
        "outputId": "2a27a5d4-299b-48c2-8a76-b28c1602ee53"
      },
      "execution_count": 25,
      "outputs": [
        {
          "output_type": "stream",
          "name": "stdout",
          "text": [
            "Enter a number below 1000: 153\n",
            "153 is an Armstrong number.\n"
          ]
        }
      ]
    },
    {
      "cell_type": "markdown",
      "source": [
        "Program 11"
      ],
      "metadata": {
        "id": "idmldkDTQ89c"
      }
    },
    {
      "cell_type": "code",
      "source": [
        "n1=int(input(\"Enter a number: \"))\n",
        "n2=int(input(\"Enter a greater number: \"))\n",
        "print(\"The squares of numbers from\",n1,\"to\",n2,\"are: \")\n",
        "for i in range(n1,n2+1):\n",
        "  print(n1**2)\n",
        "  n1+=1\n"
      ],
      "metadata": {
        "colab": {
          "base_uri": "https://localhost:8080/"
        },
        "id": "hq314DzZQ_XH",
        "outputId": "77ed89ae-b026-468f-c840-806a426f4503"
      },
      "execution_count": 17,
      "outputs": [
        {
          "output_type": "stream",
          "name": "stdout",
          "text": [
            "Enter a number: 1\n",
            "Enter a greater number: 10\n",
            "The squares of numbers between 1 and 10 are: \n",
            "1\n",
            "4\n",
            "9\n",
            "16\n",
            "25\n",
            "36\n",
            "49\n",
            "64\n",
            "81\n",
            "100\n"
          ]
        }
      ]
    },
    {
      "cell_type": "markdown",
      "source": [
        "Program 12"
      ],
      "metadata": {
        "id": "PaVVyo_2Sd-g"
      }
    },
    {
      "cell_type": "code",
      "source": [
        "n=int(input(\"Enter number of elements you want in the series: \"))\n",
        "sum=0\n",
        "for x in range(1,n+1):\n",
        "  sq=x*x\n",
        "  if(x%2==0):\n",
        "    sum=sum-sq\n",
        "  else:\n",
        "    sum=sum+sq\n",
        "  x+=1\n",
        "print(\"The sum of the series is\",sum)"
      ],
      "metadata": {
        "colab": {
          "base_uri": "https://localhost:8080/"
        },
        "id": "NJ5FoPXZSftF",
        "outputId": "1629e34f-8c39-484e-8e1b-e0b915db1ee9"
      },
      "execution_count": 20,
      "outputs": [
        {
          "output_type": "stream",
          "name": "stdout",
          "text": [
            "Enter number of elements you want in the series: 5\n",
            "The sum of the series is 15\n"
          ]
        }
      ]
    },
    {
      "cell_type": "markdown",
      "source": [
        "Program 13"
      ],
      "metadata": {
        "id": "psVaMKp1U7WS"
      }
    },
    {
      "cell_type": "code",
      "source": [
        "x=int(input(\"Enter base number:\"))\n",
        "n=int(input(\"Enter the power: \"))\n",
        "num=x\n",
        "for i in range(1,n):\n",
        "  num=num*x\n",
        "\n",
        "print(x,\"raised to power\", n, \"is\", num)\n"
      ],
      "metadata": {
        "colab": {
          "base_uri": "https://localhost:8080/"
        },
        "id": "iO9c5cIgU9Dn",
        "outputId": "04fe9892-7539-438c-dbc1-915aec0251e4"
      },
      "execution_count": 22,
      "outputs": [
        {
          "output_type": "stream",
          "name": "stdout",
          "text": [
            "Enter base number:2\n",
            "Enter the power: 3\n",
            "2 raised to power 3 is 8\n"
          ]
        }
      ]
    },
    {
      "cell_type": "markdown",
      "source": [
        "Program 14"
      ],
      "metadata": {
        "id": "ewIA2zdGVsWU"
      }
    },
    {
      "cell_type": "code",
      "source": [
        "n=int(input(\"Enter number of elements of Fibonacci series to be printed: \"))\n",
        "first=0\n",
        "second=1\n",
        "print(\"The Fibonacci series upto\",n,\"elements is: \")\n",
        "print(first, second,end=\" \")\n",
        "for i in range(1,n):\n",
        "  sum=first+second\n",
        "  first=second\n",
        "  second=sum\n",
        "  print(sum,end=\" \")"
      ],
      "metadata": {
        "colab": {
          "base_uri": "https://localhost:8080/"
        },
        "id": "XdmLXSJfVuCq",
        "outputId": "d8af80e5-ffac-40cc-d6c3-d1706082f749"
      },
      "execution_count": 24,
      "outputs": [
        {
          "output_type": "stream",
          "name": "stdout",
          "text": [
            "Enter number of elements of Fibonacci series to be printed: 10\n",
            "The Fibonacci series upto 10 elements is: \n",
            "0 1 1 2 3 5 8 13 21 34 55 "
          ]
        }
      ]
    }
  ]
}